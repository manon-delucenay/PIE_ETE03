{
 "cells": [
  {
   "cell_type": "markdown",
   "metadata": {
    "id": "vUQKgzBmMx0K"
   },
   "source": [
    "# Version du 22/11/23\n",
    "\n",
    "Ce notebook vise à présenter le fonctionnement du systême biodiversité et son implémentation en Python.\n"
   ]
  },
  {
   "cell_type": "code",
   "execution_count": 1,
   "metadata": {
    "id": "jKVS1d_4NjbF"
   },
   "outputs": [],
   "source": [
    "import numpy as np\n",
    "import pandas as pd\n",
    "from sklearn import linear_model"
   ]
  },
  {
   "cell_type": "markdown",
   "metadata": {},
   "source": [
    "## Sous-systèmes niveau 1\n",
    "\n",
    "Note - mettre vrai jeu de données, ajouter facteur espèces invasives un peu partout\n",
    "\n",
    "Demander à Thierry comment mettre en place les boucles (est ce qu'on est obligé de tout changer à leur code)"
   ]
  },
  {
   "cell_type": "markdown",
   "metadata": {},
   "source": [
    "### Biodiversité en ville - inspiré du “ City Biodiversity Index ” (CBI) et des indicateurs de Singapour"
   ]
  },
  {
   "cell_type": "markdown",
   "metadata": {
    "id": "3gdKTG-7VHa7"
   },
   "source": [
    "1. Pourcentage de zones “ naturelles ”\n",
    "2. Mesure de la fragmentation urbaine\n",
    "3. Nombre d'espèces végétales\n",
    "4. Nombre d'espèces animales\n",
    "5. Part des aires protégées\n",
    "6. Proportion d'espèces végétales exotiques envahissantes\n",
    "7. Régulation de la quantité d'eau\n",
    "8. Proportion du couvert arboré\n",
    "9. Superficie d'espaces verts urbains pour mille habitants\n",
    "10. Existence de plans d'actions en faveur de la biodiversité\n",
    "11. Nombre d’organismes et/ou de partenariats liés à la biodiversité\n",
    "12. Existence de processus de consultation formels ou informels liés à la biodiversité\n",
    "\n",
    "Nous nous interessons alors aux paramètres qui peuvent le plus affecter la variation de biodiversité c'est-à-dire les investissements publics (critères 10 à 12), la proportion de parcs (espaces naturels/protégés - critères 1, 5), la densité de verdure (critère 9). On ajoute également la prise en compte des animaux domestiques (particulièrement importants en ville) et espèces invasives. On mesure ensuite l'évolution de la biodiversité (peut-être prendre CBI quand on aura des données)"
   ]
  },
  {
   "cell_type": "code",
   "execution_count": 2,
   "metadata": {
    "colab": {
     "base_uri": "https://localhost:8080/"
    },
    "id": "6cv9kMSsUG7Z",
    "outputId": "e12b01ce-cb62-49e2-e7b7-15b3161d953d"
   },
   "outputs": [],
   "source": [
    "#prendre des vraies valeurs...\n",
    "data_urban = [(0,0,0,0,-0.2), #statut quo ?\n",
    "                (0,0.5,1,1,0.6), #on double la superficie des parcs et la densité de verdure (donc l'investissement) ->aug de biodiv\n",
    "                 (1,0.5,-0.5,0,-0.3) #plus d'espèces invasives, autant d'arbres/personne, moins d'espaces naturels ->perte de biodiv\n",
    "                   ]\n",
    "\n",
    "df_urban = pd.DataFrame(data_urban, columns = [\"InvasiveSpecies\", \"PublicPolicies\",\"%ParksAreas\",\"DensityGreen\",\"BiodivEvo\"])\n",
    "x_urban = df_urban.drop(\"BiodivEvo\",axis=1).to_numpy()\n",
    "y_urban = df_urban['BiodivEvo']\n",
    "\n",
    "model_urban = linear_model.LinearRegression()\n",
    "model_urban = model_urban.fit(x_urban,y_urban)"
   ]
  },
  {
   "cell_type": "markdown",
   "metadata": {},
   "source": [
    "### Biodiversity in the mountains"
   ]
  },
  {
   "cell_type": "markdown",
   "metadata": {
    "id": "w3S6E06XcdqM"
   },
   "source": [
    "1. Climatic Factors\n",
    "  1. Pluviometry\n",
    "  2. Temperature\n",
    "2. Human Factors\n",
    "  1. Livestock\n",
    "  2. Tourism\n",
    "  3. Policies\n",
    "  4. Urbanisation\n"
   ]
  },
  {
   "cell_type": "code",
   "execution_count": 3,
   "metadata": {
    "colab": {
     "base_uri": "https://localhost:8080/"
    },
    "id": "Xf7gI-4Rdauq",
    "outputId": "1035c039-d48f-4150-cbc5-bd008f988e5e"
   },
   "outputs": [
    {
     "name": "stdout",
     "output_type": "stream",
     "text": [
      "[ 0.34463277 -0.27683616  0.62316384 -0.27683616  0.13841808 -0.13841808]\n"
     ]
    }
   ],
   "source": [
    "data_mountains = [(0.5,0,0,0,0,0,0.1), #the biodiv index increases with the pluviometry\n",
    "                  (0,0.1,0,0,0,0,-0.1), #the biodiv index decreases with the temperature (especially in the moutains where the coldness matters)\n",
    "                  (0,0,0.1,0,0,0,-0.01), #livestock is a pressure to biodiversity (little)\n",
    "                  (0,0,0,0.1,0,0,-0.1), #tourism is a pressure to biodiversity (big)\n",
    "                  (0,0,0,0,-0.1,0.1,-0.1) #a urbanisation policy have a bad impact on biodiversity\n",
    "                  ]\n",
    "\n",
    "df_mountains = pd.DataFrame(data_mountains, columns = [\"Pluviometry\", \"Temperature\",\"Livestock\",\"Tourism\",\"Policies\",\"Urbanisation\", \"BiodivIndex\"])\n",
    "x_mountains = df_mountains.drop(\"BiodivIndex\",axis=1).to_numpy()\n",
    "y_mountains = df_mountains['BiodivIndex']\n",
    "\n",
    "model_mountains = linear_model.LinearRegression()\n",
    "model_mountains = model_mountains.fit(x_mountains,y_mountains)\n",
    "\n",
    "print(model_mountains.coef_)"
   ]
  },
  {
   "cell_type": "markdown",
   "metadata": {},
   "source": [
    "### Biodiversity in the forests"
   ]
  },
  {
   "cell_type": "markdown",
   "metadata": {
    "id": "H7Xlb55Pi1c_"
   },
   "source": [
    "1. Climatic Factors\n",
    "    1. Pluviometry\n",
    "    2. Dryness\n",
    "    3. Soil Humidity\n",
    "2. Human Factors\n",
    "   1. Agriculture\n",
    "   2. Livestock\n",
    "   3. Forestry\n",
    "   4. Urbanisation\n",
    "   5. Soil Transformation\n",
    "   6. Hunting / Poaching\n",
    "   7. Policies\n"
   ]
  },
  {
   "cell_type": "code",
   "execution_count": 4,
   "metadata": {
    "colab": {
     "base_uri": "https://localhost:8080/"
    },
    "id": "J16P4glCjDCl",
    "outputId": "cadcad7b-e90e-4329-cfe1-c0411a68e057"
   },
   "outputs": [
    {
     "name": "stdout",
     "output_type": "stream",
     "text": [
      "[ 1.15809442 -0.47238014 -2.73142612 -1.13263617 -0.36846829  1.70165669\n",
      "  0.24006116 -1.19904844 -0.44968281 -1.71134866]\n"
     ]
    }
   ],
   "source": [
    "data_forests = pd.read_csv(\"data_initial/Forests_Parameters.csv\", sep=\";\", decimal=\",\")\n",
    "\n",
    "df_forests = pd.DataFrame(data_forests, columns = [\"Pluviometry\", \"Dryness\", \"Soil Humidity\", \"Agriculture\", \"Livestock\", \"Forestry\", \"Urbanisation\", \"Soil Transformation\", \"Hunting / Poaching\", \"Policies\", \"BHI\"])\n",
    "x_forests = df_forests.drop(\"BHI\",axis=1).to_numpy()\n",
    "\n",
    "y_forests = df_forests['BHI']\n",
    "model_forests = linear_model.LinearRegression()\n",
    "model_forests = model_forests.fit(x_forests,y_forests)\n",
    "\n",
    "print(model_forests.coef_)"
   ]
  },
  {
   "cell_type": "markdown",
   "metadata": {},
   "source": [
    "### Biodiversity in the Meadows"
   ]
  },
  {
   "cell_type": "markdown",
   "metadata": {
    "id": "W5adSrvFpmNn"
   },
   "source": [
    "1. Climatic Factors\n",
    "    1. Pluviometry\n",
    "    2. Dryness\n",
    "    3. Soil Humidity\n",
    "2. Human Factors\n",
    "    1. Agriculture\n",
    "    2. Livestock\n",
    "    3. Forestry\n",
    "    4. Urbanisation\n",
    "    5. Soil Transformation\n",
    "    6. Hunting / Poaching\n",
    "    7. Policies"
   ]
  },
  {
   "cell_type": "code",
   "execution_count": 5,
   "metadata": {
    "colab": {
     "base_uri": "https://localhost:8080/",
     "height": 249
    },
    "id": "BRGV0kVSpLoc",
    "outputId": "55948569-eb5c-4c0c-952f-9cf220254889"
   },
   "outputs": [
    {
     "name": "stdout",
     "output_type": "stream",
     "text": [
      "[ 0.09401716  0.66412851  0.63728532  0.01141174 -0.16303284 -0.23800196\n",
      " -0.41457428  0.66984105]\n"
     ]
    }
   ],
   "source": [
    "data_meadows = pd.read_csv(\"data_initial/Meadows.csv\", sep=\";\", decimal=\",\")\n",
    "\n",
    "df_meadows = pd.DataFrame(data_meadows)\n",
    "x_meadows = df_meadows.drop(\"BHI\",axis=1).to_numpy()\n",
    "y_meadows = df_meadows['BHI']\n",
    "\n",
    "model_meadows = linear_model.LinearRegression()\n",
    "model_meadows = model_meadows.fit(x_meadows,y_meadows)\n",
    "\n",
    "print(model_meadows.coef_)"
   ]
  },
  {
   "cell_type": "markdown",
   "metadata": {},
   "source": [
    "# Biodiversity in the Savanas\n",
    "\n",
    "1. Climatic Factors\n",
    "    1. Pluviometry\n",
    "    2. Dryness\n",
    "    3. Soil Humidity\n",
    "2. Human Factors\n",
    "    1. Agriculture\n",
    "    2. Livestock\n",
    "    3. Forestry\n",
    "    4. Urbanisation\n",
    "    5. Soil Transformation\n",
    "    6. Hunting / Poaching\n",
    "    7. Policies"
   ]
  },
  {
   "cell_type": "code",
   "execution_count": 6,
   "metadata": {},
   "outputs": [
    {
     "name": "stdout",
     "output_type": "stream",
     "text": [
      "[ 0.22850445 -0.22850445 -0.17149555 -0.2        -0.2         0.12358181\n",
      "  0.18068448  0.90426629]\n"
     ]
    }
   ],
   "source": [
    "data_savana = pd.read_csv(\"data_initial/Savana.csv\", sep=\";\", decimal=\",\")\n",
    "\n",
    "df_savana = pd.DataFrame(data_savana)\n",
    "x_savana = df_savana.drop('BHI',axis=1).to_numpy()\n",
    "y_savana = df_savana['BHI']\n",
    "\n",
    "model_savana = linear_model.LinearRegression()\n",
    "model_savana = model_savana.fit(x_savana,y_savana)\n",
    "\n",
    "print(model_savana.coef_)"
   ]
  },
  {
   "cell_type": "markdown",
   "metadata": {},
   "source": [
    "### Biodiversity in the fresh waters"
   ]
  },
  {
   "cell_type": "markdown",
   "metadata": {
    "id": "dRQTbtxBkLF9"
   },
   "source": [
    "1. Climatic Factors\n",
    "    1. Pluviometry\n",
    "    2. Dryness\n",
    "    3. Temperature\n",
    "2. Human Factors\n",
    "    1. Fishery\n",
    "    2. Industry\n",
    "    3. Agriculture\n",
    "    4. Urbanisation\n",
    "  "
   ]
  },
  {
   "cell_type": "code",
   "execution_count": 9,
   "metadata": {
    "colab": {
     "base_uri": "https://localhost:8080/"
    },
    "id": "6PcZbrylk3Jc",
    "outputId": "ca0ff275-13e7-46aa-fe40-9d40c053fe5e"
   },
   "outputs": [
    {
     "name": "stdout",
     "output_type": "stream",
     "text": [
      "[ 0.46496815  0.39490446  0.39490446 -0.67515924  0.10828025  0.10828025\n",
      "  0.10828025]\n"
     ]
    }
   ],
   "source": [
    "data_fresh_water = [(0.5,0,0,0,0,0,0,0.1), #the biodiv index increases with the pluviometry\n",
    "                  (-0.1,0.1,0.1,0,0,0,0,-0.1), #the biodiv index decreases when dryness and temperature increases and pluviometry decreases\n",
    "                  (0,0,0,0.1,0,0,0,-0.2), #fishery is a pressure to biodiversity (big)\n",
    "                  (0,0,0,0,0.1,0.1,0.1,-0.1) #increase of the agriculture and industry, with urbanisation is a pressure to biodiversity\n",
    "                  ]\n",
    "\n",
    "df_fresh_water = pd.DataFrame(data_fresh_water, columns = [\"Pluviometry\",\"Dryness\", \"Temperature\",\"Fishery\",\"Industry\",\"Agriculture\",\"Urbanisation\", \"BiodivIndex\"])\n",
    "x_fresh_water = df_fresh_water.drop(\"BiodivIndex\",axis=1).to_numpy()\n",
    "y_fresh_water = df_fresh_water['BiodivIndex']\n",
    "\n",
    "model_freshwater = linear_model.LinearRegression()\n",
    "model_freshwater = model_freshwater.fit(x_fresh_water,y_fresh_water)\n",
    "\n",
    "print(model_freshwater.coef_)\n"
   ]
  },
  {
   "cell_type": "markdown",
   "metadata": {},
   "source": [
    "### Biodiversity in the ocean"
   ]
  },
  {
   "cell_type": "markdown",
   "metadata": {},
   "source": [
    "1. Climatic Factors\n",
    "    1. Temperature\n",
    "    2. pH\n",
    "    3. Wind\n",
    "2. Human Factors\n",
    "    1. Tourism\n",
    "    2. Fishery\n",
    "    3. Transport\n",
    "    4. Politics\n",
    "    5. Industry\n",
    "    6. Pollution"
   ]
  },
  {
   "cell_type": "code",
   "execution_count": 10,
   "metadata": {},
   "outputs": [
    {
     "name": "stdout",
     "output_type": "stream",
     "text": [
      "[ 0.09401716  0.66412851  0.63728532  0.01141174 -0.16303284 -0.23800196\n",
      " -0.41457428  0.66984105]\n"
     ]
    }
   ],
   "source": [
    "data_ocean = [(0.03,0,0,0,0,0,0,0,0,-0.03), #the biodiv index decreases with temperature\n",
    "                  (0,-0.05,0,0,0,0,0,0,0,-0.2), #the biodiv index decreases when pH decreases\n",
    "                  (0,0,0,0.04,0,0,0,0,0.04,-0.09), #tourism and pollution is a pressure to biodiversity (big)\n",
    "                  (0,0,0,0,0.02,0,0,0,0,-0.03),\n",
    "                  (0,0,0.1,0,0,0.03,0,0,0.05,-0.07),\n",
    "                  (0.02,0,0,0,0,0,0.05,-0.01,0,0.02),\n",
    "                  (0,0,0,0,0,0,0,0.05,0.04,-0.06)\n",
    "                  ]\n",
    "\n",
    "df_ocean = pd.DataFrame(data_ocean, columns = [\"Temperature\",\"pH\",\"Wind\",\"Tourism\",\"Fishery\",\"Transport\",\"Policies\",\"Industry\",\"Pollution\",\"BiodivIndex\"])\n",
    "x_ocean = df_ocean.drop(\"BiodivIndex\",axis=1).to_numpy()\n",
    "y_ocean = df_ocean['BiodivIndex']\n",
    "\n",
    "model_ocean = linear_model.LinearRegression()\n",
    "model_ocean = model_ocean.fit(x_ocean,y_ocean)\n",
    "\n",
    "print(model_meadows.coef_)"
   ]
  },
  {
   "cell_type": "markdown",
   "metadata": {},
   "source": [
    "## SYSTEME"
   ]
  },
  {
   "cell_type": "code",
   "execution_count": 149,
   "metadata": {},
   "outputs": [],
   "source": [
    "def calcul_BHI(parameters):\n",
    "    #calcul des scores de chaque sous-système\n",
    "    x_urban = [parameters['InvasiveSpecies'], parameters['Policies'], parameters['ParkAreas'], parameters['DensityGreen']]\n",
    "    CBI = model_urban.predict([x_urban])\n",
    "\n",
    "    x_mountains = [parameters['Pluviometry'], parameters['Temperature'], parameters['Livestock'], parameters['Tourism'], \n",
    "                   parameters['Policies'], parameters['Urbanisation']]\n",
    "    y_mountains = model_mountains.predict([x_mountains])\n",
    "\n",
    "    x_forests = [parameters['Pluviometry'], parameters['Dryness'], parameters['SoilHumidity'], parameters['Agriculture'], \n",
    "                 parameters['Livestock'], parameters['Forestry'], parameters['Urbanisation'], parameters['SoilTransformation'], \n",
    "                 parameters['Hunting'], parameters['Policies']]\n",
    "    y_forests = model_forests.predict([x_forests])\n",
    "\n",
    "    x_meadows = [parameters['Pluviometry'], parameters['Dryness'], parameters['SoilHumidity'], parameters['Agriculture'], \n",
    "                 parameters['Livestock'], parameters['Urbanisation'], parameters['SoilTransformation'], parameters['Policies']]\n",
    "    y_meadows = model_meadows.predict([x_meadows])\n",
    "\n",
    "    x_freshwater = [parameters['Pluviometry'], parameters['Dryness'], parameters['Temperature'], parameters['Fishery'], \n",
    "                    parameters['Industry'],parameters['Agriculture'], parameters['Urbanisation']]\n",
    "    y_freshwater = model_freshwater.predict([x_freshwater])\n",
    "\n",
    "    x_oceans = [parameters['Temperature'], parameters['pH'], parameters['Wind'], parameters['Tourism'], parameters['Fishery'], \n",
    "                parameters['Transport'], parameters['Policies'], parameters['Industry'], parameters['Pollution']]\n",
    "    y_oceans = model_ocean.predict([x_oceans])\n",
    "\n",
    "    #calcul du score global\n",
    "    coef_earth = np.array([0.2, 0.8, 0.45, 0.05]) #à changer - on peut le faire varier selon l'urbanisation/land_use...\n",
    "    coef_totaux = np.array([0.125, 0.06, 0.815])\n",
    "    \n",
    "    BHI_earth = np.sum(coef_earth * np.array([y_mountains, y_forests, y_meadows, CBI]))\n",
    "    BHI = np.sum(coef_totaux * np.array([y_freshwater[0], y_oceans[0], BHI_earth]))\n",
    "    \n",
    "    return round(BHI*100,2) #, round(CBI[0]*100,2) #taux de biodiversité des villes qui sera plus spécifiquement lié à la santé/population"
   ]
  },
  {
   "cell_type": "code",
   "execution_count": 150,
   "metadata": {},
   "outputs": [
    {
     "data": {
      "text/plain": [
       "-32.79"
      ]
     },
     "execution_count": 150,
     "metadata": {},
     "output_type": "execute_result"
    }
   ],
   "source": [
    "parameters={\"InvasiveSpecies\":0, \"Policies\":0, \"ParkAreas\":0, \"DensityGreen\":0, \"Pluviometry\":0, \"Temperature\":0, \"Livestock\":0, \"Tourism\":0, \n",
    "            \"Urbanisation\":0, \"Dryness\":0, \"SoilHumidity\":0, \"Agriculture\":0, \"Forestry\":0, \"SoilTransformation\":0, \"Hunting\":0, \"Fishery\":0,\n",
    "            \"Industry\":0, \"pH\":0, \"Wind\":0, \"Transport\":0, \"Pollution\":0}\n",
    "calcul_BHI(parameters)"
   ]
  },
  {
   "cell_type": "code",
   "execution_count": 151,
   "metadata": {},
   "outputs": [
    {
     "data": {
      "text/plain": [
       "-58.17"
      ]
     },
     "execution_count": 151,
     "metadata": {},
     "output_type": "execute_result"
    }
   ],
   "source": [
    "#exemple d'utilisation\n",
    "parameters[\"Temperature\"] = 1\n",
    "calcul_BHI(parameters)"
   ]
  },
  {
   "cell_type": "code",
   "execution_count": 154,
   "metadata": {},
   "outputs": [
    {
     "data": {
      "text/plain": [
       "[<matplotlib.lines.Line2D at 0x148f1cc8d50>]"
      ]
     },
     "execution_count": 154,
     "metadata": {},
     "output_type": "execute_result"
    },
    {
     "data": {
      "image/png": "[encoded data removed]",
      "text/plain": [
       "<Figure size 640x480 with 1 Axes>"
      ]
     },
     "metadata": {},
     "output_type": "display_data"
    }
   ],
   "source": [
    "import matplotlib.pyplot as plt\n",
    "\n",
    "interval = np.linspace(-1,1,num=100)\n",
    "BHI = []\n",
    "for i in interval:\n",
    "    parameters[\"Temperature\"] = i\n",
    "    BHI.append(calcul_BHI(parameters))\n",
    "\n",
    "plt.plot(interval,BHI)"
   ]
  },
  {
   "cell_type": "code",
   "execution_count": null,
   "metadata": {},
   "outputs": [],
   "source": []
  }
 ],
 "metadata": {
  "colab": {
   "provenance": []
  },
  "kernelspec": {
   "display_name": "Python 3 (ipykernel)",
   "language": "python",
   "name": "python3"
  },
  "language_info": {
   "codemirror_mode": {
    "name": "ipython",
    "version": 3
   },
   "file_extension": ".py",
   "mimetype": "text/x-python",
   "name": "python",
   "nbconvert_exporter": "python",
   "pygments_lexer": "ipython3",
   "version": "3.11.6"
  }
 },
 "nbformat": 4,
 "nbformat_minor": 4
}
